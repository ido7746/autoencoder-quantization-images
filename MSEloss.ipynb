{
 "cells": [
  {
   "cell_type": "code",
   "execution_count": 11,
   "id": "98f6e2c8",
   "metadata": {
    "execution": {
     "iopub.execute_input": "2023-02-21T10:07:52.533068Z",
     "iopub.status.busy": "2023-02-21T10:07:52.532325Z",
     "iopub.status.idle": "2023-02-21T10:07:56.350701Z",
     "shell.execute_reply": "2023-02-21T10:07:56.349752Z"
    },
    "papermill": {
     "duration": 3.829783,
     "end_time": "2023-02-21T10:07:56.353576",
     "exception": false,
     "start_time": "2023-02-21T10:07:52.523793",
     "status": "completed"
    },
    "tags": []
   },
   "outputs": [],
   "source": [
    "from torchvision.datasets import Food101\n",
    "from torchvision.datasets import Flowers102\n",
    "from PIL import Image\n",
    "import matplotlib.pyplot as plt\n",
    "import numpy as np\n",
    "import os\n",
    "from torch.utils.data import DataLoader, Dataset\n",
    "import torch\n",
    "import torch.nn as nn\n",
    "from torch.utils.data import DataLoader\n",
    "from torchvision import transforms\n",
    "import torch.nn.functional as F\n",
    "import torch.optim as optim\n",
    "\n",
    "device = torch.device(\"cuda\" if torch.cuda.is_available() else \"cpu\")"
   ]
  },
  {
   "cell_type": "code",
   "execution_count": 12,
   "id": "6574add6",
   "metadata": {
    "execution": {
     "iopub.execute_input": "2023-02-21T10:07:56.366186Z",
     "iopub.status.busy": "2023-02-21T10:07:56.365759Z",
     "iopub.status.idle": "2023-02-21T10:07:56.370449Z",
     "shell.execute_reply": "2023-02-21T10:07:56.369383Z"
    },
    "papermill": {
     "duration": 0.01323,
     "end_time": "2023-02-21T10:07:56.372697",
     "exception": false,
     "start_time": "2023-02-21T10:07:56.359467",
     "status": "completed"
    },
    "tags": []
   },
   "outputs": [],
   "source": [
    "batch_size = 20\n",
    "down_level_quntize = 7\n",
    "crop_shape = (64, 64)\n",
    "resize_shape = (128, 128)\n",
    "num_workers = 2"
   ]
  },
  {
   "cell_type": "code",
   "execution_count": 13,
   "id": "2a6c0412",
   "metadata": {
    "execution": {
     "iopub.execute_input": "2023-02-21T10:07:56.385070Z",
     "iopub.status.busy": "2023-02-21T10:07:56.384254Z",
     "iopub.status.idle": "2023-02-21T10:08:16.407985Z",
     "shell.execute_reply": "2023-02-21T10:08:16.406982Z"
    },
    "papermill": {
     "duration": 20.032889,
     "end_time": "2023-02-21T10:08:16.410971",
     "exception": false,
     "start_time": "2023-02-21T10:07:56.378082",
     "status": "completed"
    },
    "tags": []
   },
   "outputs": [],
   "source": [
    "transform = transforms.Compose([\n",
    "    transforms.RandomCrop((256, 256)),\n",
    "    transforms.Resize(crop_shape),\n",
    "    transforms.Grayscale(),\n",
    "    transforms.ToTensor()\n",
    "])\n",
    "train_flower_dataset = Flowers102(root='.',split = 'train', download=True, transform =transform)\n",
    "test_flower_dataset = Flowers102(root='.',split = 'test', download=True, transform =transform)"
   ]
  },
  {
   "cell_type": "code",
   "execution_count": 14,
   "id": "89f4a0f0",
   "metadata": {
    "execution": {
     "iopub.execute_input": "2023-02-21T10:08:16.431153Z",
     "iopub.status.busy": "2023-02-21T10:08:16.430812Z",
     "iopub.status.idle": "2023-02-21T10:08:16.436879Z",
     "shell.execute_reply": "2023-02-21T10:08:16.436099Z"
    },
    "papermill": {
     "duration": 0.019738,
     "end_time": "2023-02-21T10:08:16.440720",
     "exception": false,
     "start_time": "2023-02-21T10:08:16.420982",
     "status": "completed"
    },
    "tags": []
   },
   "outputs": [],
   "source": [
    "data ={\n",
    "    'flower_train':DataLoader(train_flower_dataset, batch_size=batch_size, shuffle=True,num_workers=num_workers),\n",
    "    'flower_test':DataLoader(test_flower_dataset, batch_size=batch_size, shuffle=True,num_workers=num_workers)\n",
    "} "
   ]
  },
  {
   "cell_type": "code",
   "execution_count": 15,
   "id": "f0366193",
   "metadata": {
    "execution": {
     "iopub.execute_input": "2023-02-21T10:08:16.459656Z",
     "iopub.status.busy": "2023-02-21T10:08:16.459321Z",
     "iopub.status.idle": "2023-02-21T10:08:16.629981Z",
     "shell.execute_reply": "2023-02-21T10:08:16.629123Z"
    },
    "papermill": {
     "duration": 0.183575,
     "end_time": "2023-02-21T10:08:16.632955",
     "exception": false,
     "start_time": "2023-02-21T10:08:16.449380",
     "status": "completed"
    },
    "tags": []
   },
   "outputs": [],
   "source": [
    "def round_bits(x, quantize_bits):\n",
    "    mul = 2**quantize_bits\n",
    "    x = x * mul\n",
    "    x = torch.floor(x)\n",
    "    x = x / mul\n",
    "    return x\n",
    "\n",
    "class Encoder(nn.Module):\n",
    "    def __init__(self, image_shape):\n",
    "        super(Encoder,self).__init__()\n",
    "        self.fc1 = nn.Sequential(\n",
    "            nn.Linear(image_shape[0]*image_shape[1],  image_shape[0]*image_shape[1]),\n",
    "        )\n",
    "        self.fc2 = nn.Sequential(\n",
    "            nn.Linear(image_shape[0]*image_shape[1],  image_shape[0]*image_shape[1]),\n",
    "        )\n",
    "        \n",
    "        self.image_shape = image_shape\n",
    "    def forward(self, x, quantize_bits=None):\n",
    "        batch_size = x.shape[0]\n",
    "        x = x.reshape(batch_size, -1)\n",
    "        x = self.fc1(x)\n",
    "        x = torch.sigmoid(x)\n",
    "        x = self.fc2(x)\n",
    "        x = torch.sigmoid(x)\n",
    "        if quantize_bits is not None:\n",
    "            x = round_bits(x, quantize_bits)\n",
    "        x = torch.logit(x, eps=0.001)\n",
    "        x = x.reshape((batch_size,1,self.image_shape[0],self.image_shape[1]))\n",
    "        return x\n",
    "    \n",
    "class Decoder(nn.Module):\n",
    "    def __init__(self, input_shape):\n",
    "        super(Decoder, self).__init__()\n",
    "        self.stage1_1 = nn.Sequential(\n",
    "            nn.Conv2d(in_channels=1, out_channels=64, kernel_size=3, padding=1),\n",
    "            nn.BatchNorm2d(64),\n",
    "            nn.ReLU(),\n",
    "        )\n",
    "        self.stage1_2 = nn.Sequential(\n",
    "            nn.Conv2d(in_channels=64, out_channels=64, kernel_size=3, padding=1),\n",
    "            nn.BatchNorm2d(64),\n",
    "            nn.ReLU(),\n",
    "            nn.Conv2d(in_channels=64, out_channels=64, kernel_size=3, padding=1),\n",
    "            nn.BatchNorm2d(64),\n",
    "            nn.ReLU()\n",
    "        )\n",
    "        \n",
    "        self.max_pool1 = nn.MaxPool2d(kernel_size=2, stride=2)\n",
    "        \n",
    "        self.stage2_1 = nn.Sequential(\n",
    "            nn.Conv2d(in_channels=64, out_channels=128, kernel_size=3, padding=1),\n",
    "            nn.BatchNorm2d(128),\n",
    "            nn.ReLU(),\n",
    "        )\n",
    "        self.stage2_2 = nn.Sequential(\n",
    "            nn.Conv2d(in_channels=128, out_channels=128, kernel_size=3, padding=1),\n",
    "            nn.BatchNorm2d(128),\n",
    "            nn.ReLU(),\n",
    "            nn.Conv2d(in_channels=128, out_channels=128, kernel_size=3, padding=1),\n",
    "            nn.BatchNorm2d(128),\n",
    "            nn.ReLU(),\n",
    "        )\n",
    "        self.max_pool2 = nn.MaxPool2d(kernel_size=2, stride=2)\n",
    "        \n",
    "        self.stage3_1 = nn.Sequential(\n",
    "            nn.Conv2d(in_channels=128, out_channels=256, kernel_size=3, padding=1),\n",
    "            nn.BatchNorm2d(256),\n",
    "            nn.ReLU(),\n",
    "        )\n",
    "        self.stage3_2 = nn.Sequential(\n",
    "            nn.Conv2d(in_channels=256, out_channels=256, kernel_size=3, padding=1),\n",
    "            nn.BatchNorm2d(256),\n",
    "            nn.ReLU(),\n",
    "            nn.Conv2d(in_channels=256, out_channels=256, kernel_size=3, padding=1),\n",
    "            nn.BatchNorm2d(256),\n",
    "            nn.ReLU(),\n",
    "        )\n",
    "        \n",
    "        self.max_pool3 = nn.MaxPool2d(kernel_size=2, stride=2)\n",
    "        \n",
    "        self.stage4_1 = nn.Sequential(\n",
    "            nn.Conv2d(in_channels=256, out_channels=512, kernel_size=3, padding=1),\n",
    "            nn.BatchNorm2d(512),\n",
    "            nn.ReLU(),\n",
    "        )\n",
    "        \n",
    "        self.stage4_2 = nn.Sequential(\n",
    "            nn.Conv2d(in_channels=512, out_channels=512, kernel_size=3, padding=1),\n",
    "            nn.BatchNorm2d(512),\n",
    "            nn.ReLU(),\n",
    "            nn.Conv2d(in_channels=512, out_channels=512, kernel_size=3, padding=1),\n",
    "            nn.BatchNorm2d(512),\n",
    "            nn.ReLU(),\n",
    "            nn.Conv2d(in_channels=512, out_channels=512, kernel_size=3, padding=1),\n",
    "            nn.BatchNorm2d(512),\n",
    "            nn.ReLU(),\n",
    "            nn.Conv2d(in_channels=512, out_channels=512, kernel_size=3, padding=1),\n",
    "            nn.BatchNorm2d(512),\n",
    "            nn.ReLU(),\n",
    "        )\n",
    "        \n",
    "        self.encoder_block1_1 = nn.Sequential(\n",
    "            nn.ConvTranspose2d(512, 256, kernel_size=3, stride=2, padding=1, output_padding=1),\n",
    "            nn.BatchNorm2d(256),\n",
    "            nn.ReLU()\n",
    "        )\n",
    "        self.encoder_block1_2 = nn.Sequential(\n",
    "            nn.Conv2d(in_channels=256, out_channels=256, kernel_size=3, padding=1),\n",
    "            nn.BatchNorm2d(256),\n",
    "            nn.ReLU(),\n",
    "            nn.Conv2d(in_channels=256, out_channels=256, kernel_size=3, padding=1),\n",
    "            nn.BatchNorm2d(256),\n",
    "            nn.ReLU(),\n",
    "        )\n",
    "        self.encoder_block2_1 = nn.Sequential(\n",
    "            nn.ConvTranspose2d(256, 128, kernel_size=3, stride=2, padding=1, output_padding=1),\n",
    "            nn.BatchNorm2d(128),\n",
    "            nn.ReLU()\n",
    "        )\n",
    "        self.encoder_block2_2 = nn.Sequential(\n",
    "            nn.Conv2d(in_channels=128, out_channels=128, kernel_size=3, padding=1),\n",
    "            nn.BatchNorm2d(128),\n",
    "            nn.ReLU(),\n",
    "            nn.Conv2d(in_channels=128, out_channels=128, kernel_size=3, padding=1),\n",
    "            nn.BatchNorm2d(128),\n",
    "            nn.ReLU(),\n",
    "        )\n",
    "        self.encoder_block3_1 = nn.Sequential(\n",
    "            nn.ConvTranspose2d(128, 64, kernel_size=3, stride=2, padding=1, output_padding=1),\n",
    "            nn.BatchNorm2d(64),\n",
    "            nn.ReLU()\n",
    "        )\n",
    "        self.encoder_block3_2 = nn.Sequential(\n",
    "            nn.Conv2d(in_channels=64, out_channels=64, kernel_size=3, padding=1),\n",
    "            nn.BatchNorm2d(64),\n",
    "            nn.ReLU(),\n",
    "            nn.Conv2d(in_channels=64, out_channels=64, kernel_size=3, padding=1),\n",
    "            nn.BatchNorm2d(64),\n",
    "            nn.ReLU(),\n",
    "        )\n",
    "        \n",
    "        self.encoder_block3_3 = nn.Sequential(\n",
    "            nn.Conv2d(in_channels=64, out_channels=1, kernel_size=3, padding=1),\n",
    "        )\n",
    "        \n",
    "        \n",
    "    def forward(self, x):\n",
    "        x = self.stage1_1(x)\n",
    "        x1 = self.stage1_2(x)\n",
    "        x = self.max_pool1(x1)\n",
    "        x = self.stage2_1(x)\n",
    "        x2 = self.stage2_2(x)\n",
    "        x = self.max_pool2(x2)\n",
    "        x = self.stage3_1(x)\n",
    "        x3 = self.stage3_2(x)\n",
    "        x = self.max_pool3(x3)\n",
    "        x = self.stage4_1(x)\n",
    "        x = self.stage4_2(x)\n",
    "        x = self.encoder_block1_1(x)\n",
    "        x = self.encoder_block1_2(x) + x3\n",
    "        x = self.encoder_block2_1(x)\n",
    "        x = self.encoder_block2_2(x) + x2\n",
    "        x = self.encoder_block3_1(x)\n",
    "        x = self.encoder_block3_2(x) + x1\n",
    "        x = self.encoder_block3_3(x)\n",
    "        x = torch.tanh(x)\n",
    "\n",
    "        return x\n",
    "\n",
    "class Autoencoder(nn.Module):\n",
    "    def __init__(self, input_shape):\n",
    "        super(Autoencoder, self).__init__()\n",
    "        self.encoder = Encoder(input_shape)\n",
    "        self.decoder = Decoder(input_shape)\n",
    "\n",
    "    def forward(self, x, quantize_bits):\n",
    "        x = self.encoder(x, quantize_bits)\n",
    "        x = self.decoder(x)\n",
    "        return x"
   ]
  },
  {
   "cell_type": "code",
   "execution_count": 16,
   "id": "596afb2b",
   "metadata": {
    "execution": {
     "iopub.execute_input": "2023-02-21T10:08:16.652982Z",
     "iopub.status.busy": "2023-02-21T10:08:16.652653Z",
     "iopub.status.idle": "2023-02-21T10:08:24.469071Z",
     "shell.execute_reply": "2023-02-21T10:08:24.468052Z"
    },
    "papermill": {
     "duration": 7.828346,
     "end_time": "2023-02-21T10:08:24.471299",
     "exception": false,
     "start_time": "2023-02-21T10:08:16.642953",
     "status": "completed"
    },
    "tags": []
   },
   "outputs": [],
   "source": [
    "import torch.optim as optim\n",
    "autoencoder = Autoencoder(crop_shape)\n",
    "\n",
    "optimizer = optim.Adam(autoencoder.parameters(), lr=0.001)\n",
    "\n",
    "# mean-squared error loss\n",
    "criterion = nn.MSELoss()\n",
    "\n",
    "# # load from file\n",
    "# file_name = 'path_to_pt_file'\n",
    "# checkpoint = torch.load(file_name)\n",
    "# from collections import OrderedDict\n",
    "# new_state_dict = OrderedDict()\n",
    "# for k, v in checkpoint['model_state_dict'].items():\n",
    "#     name = k[7:] # remove `module.`\n",
    "#     new_state_dict[name] = v\n",
    "\n",
    "# # load params\n",
    "# autoencoder.load_state_dict(new_state_dict)"
   ]
  },
  {
   "cell_type": "code",
   "execution_count": 10,
   "id": "3bc4182e",
   "metadata": {
    "execution": {
     "iopub.execute_input": "2023-02-21T10:08:24.485395Z",
     "iopub.status.busy": "2023-02-21T10:08:24.484724Z"
    },
    "papermill": {
     "duration": null,
     "end_time": null,
     "exception": false,
     "start_time": "2023-02-21T10:08:24.477512",
     "status": "running"
    },
    "tags": []
   },
   "outputs": [
    {
     "name": "stderr",
     "output_type": "stream",
     "text": [
      "Exception ignored in: <function _MultiProcessingDataLoaderIter.__del__ at 0x110418430>\n",
      "Traceback (most recent call last):\n",
      "  File \"/Users/idoshitrit/miniconda3/envs/torch-gpu/lib/python3.8/site-packages/torch/utils/data/dataloader.py\", line 1478, in __del__\n",
      "    self._shutdown_workers()\n",
      "  File \"/Users/idoshitrit/miniconda3/envs/torch-gpu/lib/python3.8/site-packages/torch/utils/data/dataloader.py\", line 1442, in _shutdown_workers\n",
      "    w.join(timeout=_utils.MP_STATUS_CHECK_INTERVAL)\n",
      "  File \"/Users/idoshitrit/miniconda3/envs/torch-gpu/lib/python3.8/multiprocessing/process.py\", line 149, in join\n",
      "    res = self._popen.wait(timeout)\n",
      "  File \"/Users/idoshitrit/miniconda3/envs/torch-gpu/lib/python3.8/multiprocessing/popen_fork.py\", line 44, in wait\n",
      "    if not wait([self.sentinel], timeout):\n",
      "  File \"/Users/idoshitrit/miniconda3/envs/torch-gpu/lib/python3.8/multiprocessing/connection.py\", line 931, in wait\n",
      "    ready = selector.select(timeout)\n",
      "  File \"/Users/idoshitrit/miniconda3/envs/torch-gpu/lib/python3.8/selectors.py\", line 415, in select\n",
      "    fd_event_list = self._selector.poll(timeout)\n",
      "KeyboardInterrupt: \n",
      "\n",
      "KeyboardInterrupt\n",
      "\n"
     ]
    }
   ],
   "source": [
    "import random\n",
    "save_every_epoch = 1000\n",
    "model_name = 'new_cnn'\n",
    "epochs=0\n",
    "end_epochs=20000\n",
    "\n",
    "train_loader = data[\"flower_train\"]\n",
    "\n",
    "autoencoder.to(device)\n",
    "autoencoder = torch.nn.DataParallel(autoencoder)\n",
    "        \n",
    "t = transforms.ToPILImage()\n",
    "real_image_to_test, _ = random.choice(test_flower_dataset)\n",
    "image1 = t(real_image_to_test)\n",
    "min_loss = 10000000\n",
    "\n",
    "for epoch in range(epochs, end_epochs):\n",
    "    loss = 0\n",
    "    for real_image, _ in train_loader:\n",
    "        \n",
    "        optimizer.zero_grad()        \n",
    "        # compute reconstructions\n",
    "        outputs = autoencoder(real_image.to(device), down_level_quntize)\n",
    "        # compute training reconstruction loss\n",
    "        outputs = outputs.to(device)\n",
    "        train_loss = criterion(outputs, real_image.to(device))\n",
    "        # compute accumulated gradients\n",
    "        train_loss.backward()        \n",
    "        # perform parameter update based on current gradients\n",
    "        optimizer.step()        \n",
    "        # add the mini-batch training loss to epoch loss\n",
    "        loss += train_loss.item()  \n",
    "        \n",
    "    # compute the epoch training loss\n",
    "    loss = loss / len(train_loader)    \n",
    "    # display the epoch training loss\n",
    "    print(\"epoch : {}/{}, loss = {:.6f}\".format(epoch + 1, end_epochs, loss))\n",
    "    if(min_loss>loss):\n",
    "        print('save min loss epoch: ' + str(epoch + 1))\n",
    "        torch.save({\n",
    "            'model_state_dict': autoencoder.state_dict(),\n",
    "            'optimizer_state_dict': optimizer.state_dict()\n",
    "        }, \"model_and_optimizer_\"+model_name+\"_\"+\"minLoss\"+\".pt\")\n",
    "        min_loss = loss\n",
    "    if (epoch+1)%save_every_epoch == 0:\n",
    "        torch.save({\n",
    "            'model_state_dict': autoencoder.state_dict(),\n",
    "            'optimizer_state_dict': optimizer.state_dict()\n",
    "        }, \"model_and_optimizer_\"+model_name+\"_\"+str(epoch+1)+\".pt\")\n",
    "        \n",
    "        \n",
    "        # SAVE FIGURE\n",
    "        output = autoencoder(real_image_to_test.unsqueeze(0).to(device), down_level_quntize)\n",
    "        image2 = t(output[0])\n",
    "\n",
    "        # Create a figure with 3 subplots and a title\n",
    "        fig, axs = plt.subplots(1, 3, figsize=(20, 8))\n",
    "        fig.suptitle(model_name+\"_Epoch\"+str(epoch+1)+\"_LOSS\"+str(loss))\n",
    "\n",
    "        # Display the first image in the first subplot\n",
    "        axs[0].imshow(image1, cmap='gray')\n",
    "        axs[0].axis(\"off\")\n",
    "        axs[0].set_title(\"Origin\")\n",
    "        axs[1].imshow(image2, cmap='gray')\n",
    "        axs[1].axis(\"off\")\n",
    "        axs[2].set_title(\"Restored Image\")\n",
    "        plt.show()"
   ]
  },
  {
   "cell_type": "code",
   "execution_count": null,
   "id": "e8b91382",
   "metadata": {
    "execution": {
     "iopub.execute_input": "2023-01-26T18:37:30.488687Z",
     "iopub.status.busy": "2023-01-26T18:37:30.487820Z",
     "iopub.status.idle": "2023-01-26T18:37:30.632918Z",
     "shell.execute_reply": "2023-01-26T18:37:30.631342Z"
    },
    "papermill": {
     "duration": null,
     "end_time": null,
     "exception": null,
     "start_time": null,
     "status": "pending"
    },
    "tags": []
   },
   "outputs": [],
   "source": []
  },
  {
   "cell_type": "code",
   "execution_count": null,
   "id": "96eafcfc",
   "metadata": {
    "execution": {
     "iopub.execute_input": "2023-02-16T13:15:20.683428Z",
     "iopub.status.busy": "2023-02-16T13:15:20.682506Z",
     "iopub.status.idle": "2023-02-16T13:15:20.701364Z",
     "shell.execute_reply": "2023-02-16T13:15:20.700149Z",
     "shell.execute_reply.started": "2023-02-16T13:15:20.683389Z"
    },
    "papermill": {
     "duration": null,
     "end_time": null,
     "exception": null,
     "start_time": null,
     "status": "pending"
    },
    "tags": []
   },
   "outputs": [],
   "source": []
  },
  {
   "cell_type": "code",
   "execution_count": null,
   "id": "afa0ea9b",
   "metadata": {
    "execution": {
     "iopub.execute_input": "2023-02-16T13:15:21.400546Z",
     "iopub.status.busy": "2023-02-16T13:15:21.399765Z",
     "iopub.status.idle": "2023-02-16T13:15:21.424337Z",
     "shell.execute_reply": "2023-02-16T13:15:21.423213Z",
     "shell.execute_reply.started": "2023-02-16T13:15:21.400498Z"
    },
    "papermill": {
     "duration": null,
     "end_time": null,
     "exception": null,
     "start_time": null,
     "status": "pending"
    },
    "tags": []
   },
   "outputs": [],
   "source": []
  },
  {
   "cell_type": "code",
   "execution_count": null,
   "id": "ce58a51b",
   "metadata": {
    "execution": {
     "iopub.execute_input": "2023-01-26T11:42:06.243936Z",
     "iopub.status.busy": "2023-01-26T11:42:06.243544Z",
     "iopub.status.idle": "2023-01-26T11:42:06.261201Z",
     "shell.execute_reply": "2023-01-26T11:42:06.259997Z",
     "shell.execute_reply.started": "2023-01-26T11:42:06.243903Z"
    },
    "papermill": {
     "duration": null,
     "end_time": null,
     "exception": null,
     "start_time": null,
     "status": "pending"
    },
    "tags": []
   },
   "outputs": [],
   "source": []
  },
  {
   "cell_type": "code",
   "execution_count": null,
   "id": "2443f8b3",
   "metadata": {
    "execution": {
     "iopub.execute_input": "2023-01-26T11:57:19.861543Z",
     "iopub.status.busy": "2023-01-26T11:57:19.860665Z",
     "iopub.status.idle": "2023-01-26T11:57:19.962795Z",
     "shell.execute_reply": "2023-01-26T11:57:19.961322Z",
     "shell.execute_reply.started": "2023-01-26T11:57:19.861489Z"
    },
    "papermill": {
     "duration": null,
     "end_time": null,
     "exception": null,
     "start_time": null,
     "status": "pending"
    },
    "tags": []
   },
   "outputs": [],
   "source": []
  },
  {
   "cell_type": "code",
   "execution_count": null,
   "id": "c8f365f8",
   "metadata": {
    "execution": {
     "iopub.execute_input": "2023-01-25T14:21:22.762743Z",
     "iopub.status.busy": "2023-01-25T14:21:22.762114Z",
     "iopub.status.idle": "2023-01-25T14:21:22.790626Z",
     "shell.execute_reply": "2023-01-25T14:21:22.789527Z",
     "shell.execute_reply.started": "2023-01-25T14:21:22.762693Z"
    },
    "papermill": {
     "duration": null,
     "end_time": null,
     "exception": null,
     "start_time": null,
     "status": "pending"
    },
    "tags": []
   },
   "outputs": [],
   "source": []
  },
  {
   "cell_type": "code",
   "execution_count": null,
   "id": "641bd99a",
   "metadata": {
    "execution": {
     "iopub.execute_input": "2023-01-26T11:20:52.483948Z",
     "iopub.status.busy": "2023-01-26T11:20:52.483480Z",
     "iopub.status.idle": "2023-01-26T11:20:52.498160Z",
     "shell.execute_reply": "2023-01-26T11:20:52.496540Z",
     "shell.execute_reply.started": "2023-01-26T11:20:52.483911Z"
    },
    "papermill": {
     "duration": null,
     "end_time": null,
     "exception": null,
     "start_time": null,
     "status": "pending"
    },
    "tags": []
   },
   "outputs": [],
   "source": []
  },
  {
   "cell_type": "code",
   "execution_count": 22,
   "id": "cb701299",
   "metadata": {
    "execution": {
     "iopub.execute_input": "2023-01-26T11:21:11.499499Z",
     "iopub.status.busy": "2023-01-26T11:21:11.499019Z",
     "iopub.status.idle": "2023-01-26T11:21:11.530501Z",
     "shell.execute_reply": "2023-01-26T11:21:11.528487Z",
     "shell.execute_reply.started": "2023-01-26T11:21:11.499460Z"
    },
    "papermill": {
     "duration": null,
     "end_time": null,
     "exception": null,
     "start_time": null,
     "status": "pending"
    },
    "tags": []
   },
   "outputs": [],
   "source": []
  },
  {
   "cell_type": "code",
   "execution_count": null,
   "id": "178b479c",
   "metadata": {
    "execution": {
     "iopub.execute_input": "2023-01-26T11:21:15.220555Z",
     "iopub.status.busy": "2023-01-26T11:21:15.220110Z",
     "iopub.status.idle": "2023-01-26T11:21:15.237745Z",
     "shell.execute_reply": "2023-01-26T11:21:15.236075Z",
     "shell.execute_reply.started": "2023-01-26T11:21:15.220521Z"
    },
    "papermill": {
     "duration": null,
     "end_time": null,
     "exception": null,
     "start_time": null,
     "status": "pending"
    },
    "tags": []
   },
   "outputs": [],
   "source": []
  },
  {
   "cell_type": "code",
   "execution_count": null,
   "id": "e69fe315",
   "metadata": {
    "execution": {
     "iopub.execute_input": "2023-01-26T11:21:16.105039Z",
     "iopub.status.busy": "2023-01-26T11:21:16.104556Z",
     "iopub.status.idle": "2023-01-26T11:21:16.119354Z",
     "shell.execute_reply": "2023-01-26T11:21:16.118012Z",
     "shell.execute_reply.started": "2023-01-26T11:21:16.104999Z"
    },
    "papermill": {
     "duration": null,
     "end_time": null,
     "exception": null,
     "start_time": null,
     "status": "pending"
    },
    "tags": []
   },
   "outputs": [],
   "source": []
  },
  {
   "cell_type": "code",
   "execution_count": null,
   "id": "cd4643b2",
   "metadata": {
    "execution": {
     "iopub.execute_input": "2023-01-26T11:21:54.832515Z",
     "iopub.status.busy": "2023-01-26T11:21:54.832075Z",
     "iopub.status.idle": "2023-01-26T11:21:54.864936Z",
     "shell.execute_reply": "2023-01-26T11:21:54.863978Z",
     "shell.execute_reply.started": "2023-01-26T11:21:54.832480Z"
    },
    "papermill": {
     "duration": null,
     "end_time": null,
     "exception": null,
     "start_time": null,
     "status": "pending"
    },
    "tags": []
   },
   "outputs": [],
   "source": []
  },
  {
   "cell_type": "code",
   "execution_count": null,
   "id": "5968dc77",
   "metadata": {
    "papermill": {
     "duration": null,
     "end_time": null,
     "exception": null,
     "start_time": null,
     "status": "pending"
    },
    "tags": []
   },
   "outputs": [],
   "source": []
  },
  {
   "cell_type": "code",
   "execution_count": null,
   "id": "30a4a0de",
   "metadata": {
    "papermill": {
     "duration": null,
     "end_time": null,
     "exception": null,
     "start_time": null,
     "status": "pending"
    },
    "tags": []
   },
   "outputs": [],
   "source": []
  },
  {
   "cell_type": "code",
   "execution_count": null,
   "id": "dec15895",
   "metadata": {
    "papermill": {
     "duration": null,
     "end_time": null,
     "exception": null,
     "start_time": null,
     "status": "pending"
    },
    "tags": []
   },
   "outputs": [],
   "source": []
  },
  {
   "cell_type": "code",
   "execution_count": null,
   "id": "25d002ab",
   "metadata": {
    "papermill": {
     "duration": null,
     "end_time": null,
     "exception": null,
     "start_time": null,
     "status": "pending"
    },
    "tags": []
   },
   "outputs": [],
   "source": []
  },
  {
   "cell_type": "code",
   "execution_count": null,
   "id": "34f9dcdb",
   "metadata": {
    "papermill": {
     "duration": null,
     "end_time": null,
     "exception": null,
     "start_time": null,
     "status": "pending"
    },
    "tags": []
   },
   "outputs": [],
   "source": []
  },
  {
   "cell_type": "code",
   "execution_count": null,
   "id": "e425c578",
   "metadata": {
    "papermill": {
     "duration": null,
     "end_time": null,
     "exception": null,
     "start_time": null,
     "status": "pending"
    },
    "tags": []
   },
   "outputs": [],
   "source": []
  },
  {
   "cell_type": "code",
   "execution_count": null,
   "id": "c0f467a8",
   "metadata": {
    "papermill": {
     "duration": null,
     "end_time": null,
     "exception": null,
     "start_time": null,
     "status": "pending"
    },
    "tags": []
   },
   "outputs": [],
   "source": []
  },
  {
   "cell_type": "code",
   "execution_count": null,
   "id": "f17def99",
   "metadata": {
    "papermill": {
     "duration": null,
     "end_time": null,
     "exception": null,
     "start_time": null,
     "status": "pending"
    },
    "tags": []
   },
   "outputs": [],
   "source": []
  },
  {
   "cell_type": "code",
   "execution_count": null,
   "id": "7c570137",
   "metadata": {
    "papermill": {
     "duration": null,
     "end_time": null,
     "exception": null,
     "start_time": null,
     "status": "pending"
    },
    "tags": []
   },
   "outputs": [],
   "source": []
  },
  {
   "cell_type": "code",
   "execution_count": null,
   "id": "d28fb014",
   "metadata": {
    "papermill": {
     "duration": null,
     "end_time": null,
     "exception": null,
     "start_time": null,
     "status": "pending"
    },
    "tags": []
   },
   "outputs": [],
   "source": []
  }
 ],
 "metadata": {
  "kernelspec": {
   "display_name": "torch-gpu",
   "language": "python",
   "name": "torch-gpu"
  },
  "language_info": {
   "codemirror_mode": {
    "name": "ipython",
    "version": 3
   },
   "file_extension": ".py",
   "mimetype": "text/x-python",
   "name": "python",
   "nbconvert_exporter": "python",
   "pygments_lexer": "ipython3",
   "version": "3.8.15"
  },
  "papermill": {
   "default_parameters": {},
   "duration": null,
   "end_time": null,
   "environment_variables": {},
   "exception": null,
   "input_path": "__notebook__.ipynb",
   "output_path": "__notebook__.ipynb",
   "parameters": {},
   "start_time": "2023-02-21T10:07:41.936503",
   "version": "2.3.4"
  }
 },
 "nbformat": 4,
 "nbformat_minor": 5
}
